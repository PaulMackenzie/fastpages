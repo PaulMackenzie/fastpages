{
  "nbformat": 4,
  "nbformat_minor": 0,
  "metadata": {
    "kernelspec": {
      "display_name": "Python 3",
      "language": "python",
      "name": "python3"
    },
    "language_info": {
      "codemirror_mode": {
        "name": "ipython",
        "version": 3
      },
      "file_extension": ".py",
      "mimetype": "text/x-python",
      "name": "python",
      "nbconvert_exporter": "python",
      "pygments_lexer": "ipython3",
      "version": "3.6.7"
    },
    "varInspector": {
      "cols": {
        "lenName": 16,
        "lenType": 16,
        "lenVar": 40
      },
      "kernels_config": {
        "python": {
          "delete_cmd_postfix": "",
          "delete_cmd_prefix": "del ",
          "library": "var_list.py",
          "varRefreshCmd": "print(var_dic_list())"
        },
        "r": {
          "delete_cmd_postfix": ") ",
          "delete_cmd_prefix": "rm(",
          "library": "var_list.r",
          "varRefreshCmd": "cat(var_dic_list()) "
        }
      },
      "types_to_exclude": [
        "module",
        "function",
        "builtin_function_or_method",
        "instance",
        "_Feature"
      ],
      "window_display": false
    },
    "colab": {
      "name": "2020-02-20-test.ipynb",
      "provenance": [],
      "toc_visible": true,
      "include_colab_link": true
    },
    "widgets": {
      "application/vnd.jupyter.widget-state+json": {
        "64a64c7cd87c43d9980d38cc06d30631": {
          "model_module": "@jupyter-widgets/controls",
          "model_name": "VBoxModel",
          "state": {
            "_view_name": "VBoxView",
            "_dom_classes": [
              "widget-interact"
            ],
            "_model_name": "VBoxModel",
            "_view_module": "@jupyter-widgets/controls",
            "_model_module_version": "1.5.0",
            "_view_count": null,
            "_view_module_version": "1.5.0",
            "box_style": "",
            "layout": "IPY_MODEL_e600fa6393dd456aa1a410bab6badc0c",
            "_model_module": "@jupyter-widgets/controls",
            "children": [
              "IPY_MODEL_92ed4918d0584970a7321bd0f0a567d3",
              "IPY_MODEL_95c2e00969cf46098f58149f642d3585"
            ]
          }
        },
        "e600fa6393dd456aa1a410bab6badc0c": {
          "model_module": "@jupyter-widgets/base",
          "model_name": "LayoutModel",
          "state": {
            "_view_name": "LayoutView",
            "grid_template_rows": null,
            "right": null,
            "justify_content": null,
            "_view_module": "@jupyter-widgets/base",
            "overflow": null,
            "_model_module_version": "1.2.0",
            "_view_count": null,
            "flex_flow": null,
            "width": null,
            "min_width": null,
            "border": null,
            "align_items": null,
            "bottom": null,
            "_model_module": "@jupyter-widgets/base",
            "top": null,
            "grid_column": null,
            "overflow_y": null,
            "overflow_x": null,
            "grid_auto_flow": null,
            "grid_area": null,
            "grid_template_columns": null,
            "flex": null,
            "_model_name": "LayoutModel",
            "justify_items": null,
            "grid_row": null,
            "max_height": null,
            "align_content": null,
            "visibility": null,
            "align_self": null,
            "height": null,
            "min_height": null,
            "padding": null,
            "grid_auto_rows": null,
            "grid_gap": null,
            "max_width": null,
            "order": null,
            "_view_module_version": "1.2.0",
            "grid_template_areas": null,
            "object_position": null,
            "object_fit": null,
            "grid_auto_columns": null,
            "margin": null,
            "display": null,
            "left": null
          }
        },
        "92ed4918d0584970a7321bd0f0a567d3": {
          "model_module": "@jupyter-widgets/controls",
          "model_name": "IntSliderModel",
          "state": {
            "_view_name": "IntSliderView",
            "style": "IPY_MODEL_67b01c89107f4fc18706c92e6cb7428f",
            "_dom_classes": [],
            "description": "x",
            "step": 1,
            "_model_name": "IntSliderModel",
            "orientation": "horizontal",
            "max": 30,
            "_view_module": "@jupyter-widgets/controls",
            "_model_module_version": "1.5.0",
            "value": 2,
            "_view_count": null,
            "disabled": false,
            "_view_module_version": "1.5.0",
            "min": -10,
            "continuous_update": true,
            "readout_format": "d",
            "description_tooltip": null,
            "readout": true,
            "_model_module": "@jupyter-widgets/controls",
            "layout": "IPY_MODEL_e6108ffedf7349b8a6a9945c7a52c677"
          }
        },
        "95c2e00969cf46098f58149f642d3585": {
          "model_module": "@jupyter-widgets/output",
          "model_name": "OutputModel",
          "state": {
            "_view_name": "OutputView",
            "msg_id": "",
            "_dom_classes": [],
            "_model_name": "OutputModel",
            "outputs": [
              {
                "output_type": "display_data",
                "metadata": {
                  "tags": []
                },
                "text/plain": "2"
              }
            ],
            "_view_module": "@jupyter-widgets/output",
            "_model_module_version": "1.0.0",
            "_view_count": null,
            "_view_module_version": "1.0.0",
            "layout": "IPY_MODEL_07a2969345f44c0ebc220f256c218e68",
            "_model_module": "@jupyter-widgets/output"
          }
        },
        "67b01c89107f4fc18706c92e6cb7428f": {
          "model_module": "@jupyter-widgets/controls",
          "model_name": "SliderStyleModel",
          "state": {
            "_view_name": "StyleView",
            "handle_color": null,
            "_model_name": "SliderStyleModel",
            "description_width": "",
            "_view_module": "@jupyter-widgets/base",
            "_model_module_version": "1.5.0",
            "_view_count": null,
            "_view_module_version": "1.2.0",
            "_model_module": "@jupyter-widgets/controls"
          }
        },
        "e6108ffedf7349b8a6a9945c7a52c677": {
          "model_module": "@jupyter-widgets/base",
          "model_name": "LayoutModel",
          "state": {
            "_view_name": "LayoutView",
            "grid_template_rows": null,
            "right": null,
            "justify_content": null,
            "_view_module": "@jupyter-widgets/base",
            "overflow": null,
            "_model_module_version": "1.2.0",
            "_view_count": null,
            "flex_flow": null,
            "width": null,
            "min_width": null,
            "border": null,
            "align_items": null,
            "bottom": null,
            "_model_module": "@jupyter-widgets/base",
            "top": null,
            "grid_column": null,
            "overflow_y": null,
            "overflow_x": null,
            "grid_auto_flow": null,
            "grid_area": null,
            "grid_template_columns": null,
            "flex": null,
            "_model_name": "LayoutModel",
            "justify_items": null,
            "grid_row": null,
            "max_height": null,
            "align_content": null,
            "visibility": null,
            "align_self": null,
            "height": null,
            "min_height": null,
            "padding": null,
            "grid_auto_rows": null,
            "grid_gap": null,
            "max_width": null,
            "order": null,
            "_view_module_version": "1.2.0",
            "grid_template_areas": null,
            "object_position": null,
            "object_fit": null,
            "grid_auto_columns": null,
            "margin": null,
            "display": null,
            "left": null
          }
        },
        "07a2969345f44c0ebc220f256c218e68": {
          "model_module": "@jupyter-widgets/base",
          "model_name": "LayoutModel",
          "state": {
            "_view_name": "LayoutView",
            "grid_template_rows": null,
            "right": null,
            "justify_content": null,
            "_view_module": "@jupyter-widgets/base",
            "overflow": null,
            "_model_module_version": "1.2.0",
            "_view_count": null,
            "flex_flow": null,
            "width": null,
            "min_width": null,
            "border": null,
            "align_items": null,
            "bottom": null,
            "_model_module": "@jupyter-widgets/base",
            "top": null,
            "grid_column": null,
            "overflow_y": null,
            "overflow_x": null,
            "grid_auto_flow": null,
            "grid_area": null,
            "grid_template_columns": null,
            "flex": null,
            "_model_name": "LayoutModel",
            "justify_items": null,
            "grid_row": null,
            "max_height": null,
            "align_content": null,
            "visibility": null,
            "align_self": null,
            "height": null,
            "min_height": null,
            "padding": null,
            "grid_auto_rows": null,
            "grid_gap": null,
            "max_width": null,
            "order": null,
            "_view_module_version": "1.2.0",
            "grid_template_areas": null,
            "object_position": null,
            "object_fit": null,
            "grid_auto_columns": null,
            "margin": null,
            "display": null,
            "left": null
          }
        }
      }
    }
  },
  "cells": [
    {
      "cell_type": "markdown",
      "metadata": {
        "id": "view-in-github",
        "colab_type": "text"
      },
      "source": [
        "<a href=\"https://colab.research.google.com/github/PaulMackenzie/fastpages/blob/master/_notebooks/2020-02-20-test.ipynb\" target=\"_parent\"><img src=\"https://colab.research.google.com/assets/colab-badge.svg\" alt=\"Open In Colab\"/></a>"
      ]
    },
    {
      "cell_type": "markdown",
      "metadata": {
        "id": "3IuBEViqnG0E",
        "colab_type": "text"
      },
      "source": [
        "# Fastpages Notebook Blog Post\n",
        "> A tutorial of fastpages for Jupyter notebooks.\n",
        "\n",
        "- toc: true \n",
        "- badges: true\n",
        "- comments: true\n",
        "- categories: [jupyter]\n",
        "- image: images/chart-preview.png"
      ]
    },
    {
      "cell_type": "markdown",
      "metadata": {
        "id": "2Nzsd1BSnG0F",
        "colab_type": "text"
      },
      "source": [
        "# About\n",
        "\n",
        "This notebook is a demonstration of some of capabilities of [fastpages](https://github.com/fastai/fastpages) with notebooks.\n",
        "\n",
        "\n",
        "With `fastpages` you can save your jupyter notebooks into the `_notebooks` folder at the root of your repository, and they will be automatically be converted to Jekyll compliant blog posts!\n"
      ]
    },
    {
      "cell_type": "markdown",
      "metadata": {
        "id": "qOcaaIYSnG0H",
        "colab_type": "text"
      },
      "source": [
        "## Front Matter\n",
        "\n",
        "The first cell in your Jupyter Notebook or markdown blog post contains front matter. Front matter is metadata that can turn on/off options in your Notebook. It is formatted like this:\n",
        "\n",
        "```\n",
        "# \"My Title\"\n",
        "> \"Awesome summary\"\n",
        "\n",
        "- toc: true- branch: master- badges: true\n",
        "- comments: true\n",
        "- author: Hamel Husain & Jeremy Howard\n",
        "- categories: [fastpages, jupyter]\n",
        "```\n",
        "\n",
        "- Setting `toc: true` will automatically generate a table of contents\n",
        "- Setting `badges: true` will automatically include GitHub and Google Colab links to your notebook.\n",
        "- Setting `comments: true` will enable commenting on your blog post, powered by [utterances](https://github.com/utterance/utterances).\n",
        "\n",
        "The title and description need to be enclosed in double quotes only if they include special characters such as a colon. More details and options for front matter can be viewed on the [front matter section](https://github.com/fastai/fastpages#front-matter-related-options) of the README."
      ]
    },
    {
      "cell_type": "markdown",
      "metadata": {
        "id": "Q0QvkQT6nG0H",
        "colab_type": "text"
      },
      "source": [
        "## Markdown Shortcuts"
      ]
    },
    {
      "cell_type": "markdown",
      "metadata": {
        "id": "vXDI78lFnG0I",
        "colab_type": "text"
      },
      "source": [
        "A `#hide` comment at the top of any code cell will hide **both the input and output** of that cell in your blog post.\n",
        "\n",
        "A `#hide_input` comment at the top of any code cell will **only hide the input** of that cell."
      ]
    },
    {
      "cell_type": "code",
      "metadata": {
        "id": "yVZLO4Y0nG0J",
        "colab_type": "code",
        "colab": {
          "base_uri": "https://localhost:8080/",
          "height": 34
        },
        "outputId": "105890c6-b8b0-4e6a-8e4f-42f9c0ceaf51"
      },
      "source": [
        "#hide_input\n",
        "print('The comment #hide_input was used to hide the code that produced this.')"
      ],
      "execution_count": 1,
      "outputs": [
        {
          "output_type": "stream",
          "text": [
            "The comment #hide_input was used to hide the code that produced this.\n"
          ],
          "name": "stdout"
        }
      ]
    },
    {
      "cell_type": "markdown",
      "metadata": {
        "id": "lZFiKqAFnG0P",
        "colab_type": "text"
      },
      "source": [
        "put a `#collapse-hide` flag at the top of any cell if you want to **hide** that cell by default, but give the reader the option to show it:"
      ]
    },
    {
      "cell_type": "code",
      "metadata": {
        "id": "eC-wojNvnG0Q",
        "colab_type": "code",
        "colab": {}
      },
      "source": [
        "#collapse-hide\n",
        "import pandas as pd\n",
        "import altair as alt\n",
        "\n",
        "import ipywidgets as widgets"
      ],
      "execution_count": 0,
      "outputs": []
    },
    {
      "cell_type": "markdown",
      "metadata": {
        "id": "8RZoMUrgnG0V",
        "colab_type": "text"
      },
      "source": [
        "put a `#collapse-show` flag at the top of any cell if you want to **show** that cell by default, but give the reader the option to hide it:"
      ]
    },
    {
      "cell_type": "code",
      "metadata": {
        "id": "PXRr-hVf73kq",
        "colab_type": "code",
        "colab": {
          "base_uri": "https://localhost:8080/",
          "height": 66,
          "referenced_widgets": [
            "64a64c7cd87c43d9980d38cc06d30631",
            "e600fa6393dd456aa1a410bab6badc0c",
            "92ed4918d0584970a7321bd0f0a567d3",
            "95c2e00969cf46098f58149f642d3585",
            "67b01c89107f4fc18706c92e6cb7428f",
            "e6108ffedf7349b8a6a9945c7a52c677",
            "07a2969345f44c0ebc220f256c218e68"
          ]
        },
        "outputId": "19088069-f1e0-4d72-ba3f-e35365c943ab"
      },
      "source": [
        "from ipywidgets import interact, interactive, fixed, interact_manual\n",
        "import ipywidgets as widgets\n",
        "def f(x):\n",
        "    return x\n",
        "\n",
        "interact(f, x=10);"
      ],
      "execution_count": 7,
      "outputs": [
        {
          "output_type": "display_data",
          "data": {
            "application/vnd.jupyter.widget-view+json": {
              "model_id": "64a64c7cd87c43d9980d38cc06d30631",
              "version_minor": 0,
              "version_major": 2
            },
            "text/plain": [
              "interactive(children=(IntSlider(value=10, description='x', max=30, min=-10), Output()), _dom_classes=('widget-…"
            ]
          },
          "metadata": {
            "tags": []
          }
        }
      ]
    },
    {
      "cell_type": "code",
      "metadata": {
        "id": "flWq5lXwnG0V",
        "colab_type": "code",
        "colab": {}
      },
      "source": [
        "#collapse-show\n",
        "cars = 'https://vega.github.io/vega-datasets/data/cars.json'\n",
        "movies = 'https://vega.github.io/vega-datasets/data/movies.json'\n",
        "sp500 = 'https://vega.github.io/vega-datasets/data/sp500.csv'\n",
        "stocks = 'https://vega.github.io/vega-datasets/data/stocks.csv'\n",
        "flights = 'https://vega.github.io/vega-datasets/data/flights-5k.json'"
      ],
      "execution_count": 0,
      "outputs": []
    },
    {
      "cell_type": "markdown",
      "metadata": {
        "id": "k6kicw_knG0Y",
        "colab_type": "text"
      },
      "source": [
        "## Interactive Charts With Altair\n",
        "\n",
        "Charts made with Altair remain interactive.  Example charts taken from [this repo](https://github.com/uwdata/visualization-curriculum), specifically [this notebook](https://github.com/uwdata/visualization-curriculum/blob/master/altair_interaction.ipynb)."
      ]
    },
    {
      "cell_type": "code",
      "metadata": {
        "id": "ovzo304fnG0Y",
        "colab_type": "code",
        "colab": {}
      },
      "source": [
        "# hide\n",
        "df = pd.read_json(movies) # load movies data\n",
        "genres = df['Major_Genre'].unique() # get unique field values\n",
        "genres = list(filter(lambda d: d is not None, genres)) # filter out None values\n",
        "genres.sort() # sort alphabetically"
      ],
      "execution_count": 0,
      "outputs": []
    },
    {
      "cell_type": "code",
      "metadata": {
        "id": "n-IQdM4lnG0c",
        "colab_type": "code",
        "colab": {}
      },
      "source": [
        "#hide\n",
        "mpaa = ['G', 'PG', 'PG-13', 'R', 'NC-17', 'Not Rated']"
      ],
      "execution_count": 0,
      "outputs": []
    },
    {
      "cell_type": "markdown",
      "metadata": {
        "id": "R1ycEFyInG0h",
        "colab_type": "text"
      },
      "source": [
        "### Example 1: DropDown"
      ]
    },
    {
      "cell_type": "code",
      "metadata": {
        "id": "qfZMPuAnnG0i",
        "colab_type": "code",
        "colab": {},
        "outputId": "9e268a63-34a4-4bd6-b819-130901bfc598"
      },
      "source": [
        "# single-value selection over [Major_Genre, MPAA_Rating] pairs\n",
        "# use specific hard-wired values as the initial selected values\n",
        "selection = alt.selection_single(\n",
        "    name='Select',\n",
        "    fields=['Major_Genre', 'MPAA_Rating'],\n",
        "    init={'Major_Genre': 'Drama', 'MPAA_Rating': 'R'},\n",
        "    bind={'Major_Genre': alt.binding_select(options=genres), 'MPAA_Rating': alt.binding_radio(options=mpaa)}\n",
        ")\n",
        "  \n",
        "# scatter plot, modify opacity based on selection\n",
        "alt.Chart(movies).mark_circle().add_selection(\n",
        "    selection\n",
        ").encode(\n",
        "    x='Rotten_Tomatoes_Rating:Q',\n",
        "    y='IMDB_Rating:Q',\n",
        "    tooltip='Title:N',\n",
        "    opacity=alt.condition(selection, alt.value(0.75), alt.value(0.05))\n",
        ")"
      ],
      "execution_count": 0,
      "outputs": [
        {
          "output_type": "execute_result",
          "data": {
            "text/html": [
              "\n",
              "<div id=\"altair-viz-1a49e83878ce4d678d7b162f3d6b510f\"></div>\n",
              "<script type=\"text/javascript\">\n",
              "  (function(spec, embedOpt){\n",
              "    const outputDiv = document.getElementById(\"altair-viz-1a49e83878ce4d678d7b162f3d6b510f\");\n",
              "    const paths = {\n",
              "      \"vega\": \"https://cdn.jsdelivr.net/npm//vega@5?noext\",\n",
              "      \"vega-lib\": \"https://cdn.jsdelivr.net/npm//vega-lib?noext\",\n",
              "      \"vega-lite\": \"https://cdn.jsdelivr.net/npm//vega-lite@4.0.2?noext\",\n",
              "      \"vega-embed\": \"https://cdn.jsdelivr.net/npm//vega-embed@6?noext\",\n",
              "    };\n",
              "\n",
              "    function loadScript(lib) {\n",
              "      return new Promise(function(resolve, reject) {\n",
              "        var s = document.createElement('script');\n",
              "        s.src = paths[lib];\n",
              "        s.async = true;\n",
              "        s.onload = () => resolve(paths[lib]);\n",
              "        s.onerror = () => reject(`Error loading script: ${paths[lib]}`);\n",
              "        document.getElementsByTagName(\"head\")[0].appendChild(s);\n",
              "      });\n",
              "    }\n",
              "\n",
              "    function showError(err) {\n",
              "      outputDiv.innerHTML = `<div class=\"error\" style=\"color:red;\">${err}</div>`;\n",
              "      throw err;\n",
              "    }\n",
              "\n",
              "    function displayChart(vegaEmbed) {\n",
              "      vegaEmbed(outputDiv, spec, embedOpt)\n",
              "        .catch(err => showError(`Javascript Error: ${err.message}<br>This usually means there's a typo in your chart specification. See the javascript console for the full traceback.`));\n",
              "    }\n",
              "\n",
              "    if(typeof define === \"function\" && define.amd) {\n",
              "      requirejs.config({paths});\n",
              "      require([\"vega-embed\"], displayChart, err => showError(`Error loading script: ${err.message}`));\n",
              "    } else if (typeof vegaEmbed === \"function\") {\n",
              "      displayChart(vegaEmbed);\n",
              "    } else {\n",
              "      loadScript(\"vega\")\n",
              "        .then(() => loadScript(\"vega-lite\"))\n",
              "        .then(() => loadScript(\"vega-embed\"))\n",
              "        .catch(showError)\n",
              "        .then(() => displayChart(vegaEmbed));\n",
              "    }\n",
              "  })({\"config\": {\"view\": {\"continuousWidth\": 400, \"continuousHeight\": 300}}, \"data\": {\"url\": \"https://vega.github.io/vega-datasets/data/movies.json\"}, \"mark\": \"circle\", \"encoding\": {\"opacity\": {\"condition\": {\"value\": 0.75, \"selection\": \"Select\"}, \"value\": 0.05}, \"tooltip\": {\"type\": \"nominal\", \"field\": \"Title\"}, \"x\": {\"type\": \"quantitative\", \"field\": \"Rotten_Tomatoes_Rating\"}, \"y\": {\"type\": \"quantitative\", \"field\": \"IMDB_Rating\"}}, \"selection\": {\"Select\": {\"type\": \"single\", \"fields\": [\"Major_Genre\", \"MPAA_Rating\"], \"init\": {\"Major_Genre\": \"Drama\", \"MPAA_Rating\": \"R\"}, \"bind\": {\"Major_Genre\": {\"input\": \"select\", \"options\": [\"Action\", \"Adventure\", \"Black Comedy\", \"Comedy\", \"Concert/Performance\", \"Documentary\", \"Drama\", \"Horror\", \"Musical\", \"Romantic Comedy\", \"Thriller/Suspense\", \"Western\"]}, \"MPAA_Rating\": {\"input\": \"radio\", \"options\": [\"G\", \"PG\", \"PG-13\", \"R\", \"NC-17\", \"Not Rated\"]}}}}, \"$schema\": \"https://vega.github.io/schema/vega-lite/v4.0.2.json\"}, {\"mode\": \"vega-lite\"});\n",
              "</script>"
            ],
            "text/plain": [
              "alt.Chart(...)"
            ]
          },
          "metadata": {
            "tags": []
          },
          "execution_count": 5
        }
      ]
    },
    {
      "cell_type": "markdown",
      "metadata": {
        "id": "AQ67sMNDnG0p",
        "colab_type": "text"
      },
      "source": [
        "### Example 2: Tooltips"
      ]
    },
    {
      "cell_type": "code",
      "metadata": {
        "id": "bd797wNNnG0q",
        "colab_type": "code",
        "colab": {},
        "outputId": "ed8eda03-d3ea-47e3-81da-e57eabda5f0b"
      },
      "source": [
        "alt.Chart(movies).mark_circle().add_selection(\n",
        "    alt.selection_interval(bind='scales', encodings=['x'])\n",
        ").encode(\n",
        "    x='Rotten_Tomatoes_Rating:Q',\n",
        "    y=alt.Y('IMDB_Rating:Q', axis=alt.Axis(minExtent=30)), # use min extent to stabilize axis title placement\n",
        "    tooltip=['Title:N', 'Release_Date:N', 'IMDB_Rating:Q', 'Rotten_Tomatoes_Rating:Q']\n",
        ").properties(\n",
        "    width=600,\n",
        "    height=400\n",
        ")"
      ],
      "execution_count": 0,
      "outputs": [
        {
          "output_type": "execute_result",
          "data": {
            "text/html": [
              "\n",
              "<div id=\"altair-viz-c022b476f4fb482ca6f609bf6ed082d2\"></div>\n",
              "<script type=\"text/javascript\">\n",
              "  (function(spec, embedOpt){\n",
              "    const outputDiv = document.getElementById(\"altair-viz-c022b476f4fb482ca6f609bf6ed082d2\");\n",
              "    const paths = {\n",
              "      \"vega\": \"https://cdn.jsdelivr.net/npm//vega@5?noext\",\n",
              "      \"vega-lib\": \"https://cdn.jsdelivr.net/npm//vega-lib?noext\",\n",
              "      \"vega-lite\": \"https://cdn.jsdelivr.net/npm//vega-lite@4.0.2?noext\",\n",
              "      \"vega-embed\": \"https://cdn.jsdelivr.net/npm//vega-embed@6?noext\",\n",
              "    };\n",
              "\n",
              "    function loadScript(lib) {\n",
              "      return new Promise(function(resolve, reject) {\n",
              "        var s = document.createElement('script');\n",
              "        s.src = paths[lib];\n",
              "        s.async = true;\n",
              "        s.onload = () => resolve(paths[lib]);\n",
              "        s.onerror = () => reject(`Error loading script: ${paths[lib]}`);\n",
              "        document.getElementsByTagName(\"head\")[0].appendChild(s);\n",
              "      });\n",
              "    }\n",
              "\n",
              "    function showError(err) {\n",
              "      outputDiv.innerHTML = `<div class=\"error\" style=\"color:red;\">${err}</div>`;\n",
              "      throw err;\n",
              "    }\n",
              "\n",
              "    function displayChart(vegaEmbed) {\n",
              "      vegaEmbed(outputDiv, spec, embedOpt)\n",
              "        .catch(err => showError(`Javascript Error: ${err.message}<br>This usually means there's a typo in your chart specification. See the javascript console for the full traceback.`));\n",
              "    }\n",
              "\n",
              "    if(typeof define === \"function\" && define.amd) {\n",
              "      requirejs.config({paths});\n",
              "      require([\"vega-embed\"], displayChart, err => showError(`Error loading script: ${err.message}`));\n",
              "    } else if (typeof vegaEmbed === \"function\") {\n",
              "      displayChart(vegaEmbed);\n",
              "    } else {\n",
              "      loadScript(\"vega\")\n",
              "        .then(() => loadScript(\"vega-lite\"))\n",
              "        .then(() => loadScript(\"vega-embed\"))\n",
              "        .catch(showError)\n",
              "        .then(() => displayChart(vegaEmbed));\n",
              "    }\n",
              "  })({\"config\": {\"view\": {\"continuousWidth\": 400, \"continuousHeight\": 300}}, \"data\": {\"url\": \"https://vega.github.io/vega-datasets/data/movies.json\"}, \"mark\": \"circle\", \"encoding\": {\"tooltip\": [{\"type\": \"nominal\", \"field\": \"Title\"}, {\"type\": \"nominal\", \"field\": \"Release_Date\"}, {\"type\": \"quantitative\", \"field\": \"IMDB_Rating\"}, {\"type\": \"quantitative\", \"field\": \"Rotten_Tomatoes_Rating\"}], \"x\": {\"type\": \"quantitative\", \"field\": \"Rotten_Tomatoes_Rating\"}, \"y\": {\"type\": \"quantitative\", \"axis\": {\"minExtent\": 30}, \"field\": \"IMDB_Rating\"}}, \"height\": 400, \"selection\": {\"selector001\": {\"type\": \"interval\", \"bind\": \"scales\", \"encodings\": [\"x\"]}}, \"width\": 600, \"$schema\": \"https://vega.github.io/schema/vega-lite/v4.0.2.json\"}, {\"mode\": \"vega-lite\"});\n",
              "</script>"
            ],
            "text/plain": [
              "alt.Chart(...)"
            ]
          },
          "metadata": {
            "tags": []
          },
          "execution_count": 6
        }
      ]
    },
    {
      "cell_type": "markdown",
      "metadata": {
        "id": "7FqcwrXnnG0s",
        "colab_type": "text"
      },
      "source": [
        "### Example 3: More Tooltips"
      ]
    },
    {
      "cell_type": "code",
      "metadata": {
        "scrolled": true,
        "id": "q9wrN0Q6nG0t",
        "colab_type": "code",
        "colab": {},
        "outputId": "b9b2c859-60da-46b2-8319-3f51785b830a"
      },
      "source": [
        "# select a point for which to provide details-on-demand\n",
        "label = alt.selection_single(\n",
        "    encodings=['x'], # limit selection to x-axis value\n",
        "    on='mouseover',  # select on mouseover events\n",
        "    nearest=True,    # select data point nearest the cursor\n",
        "    empty='none'     # empty selection includes no data points\n",
        ")\n",
        "\n",
        "# define our base line chart of stock prices\n",
        "base = alt.Chart().mark_line().encode(\n",
        "    alt.X('date:T'),\n",
        "    alt.Y('price:Q', scale=alt.Scale(type='log')),\n",
        "    alt.Color('symbol:N')\n",
        ")\n",
        "\n",
        "alt.layer(\n",
        "    base, # base line chart\n",
        "    \n",
        "    # add a rule mark to serve as a guide line\n",
        "    alt.Chart().mark_rule(color='#aaa').encode(\n",
        "        x='date:T'\n",
        "    ).transform_filter(label),\n",
        "    \n",
        "    # add circle marks for selected time points, hide unselected points\n",
        "    base.mark_circle().encode(\n",
        "        opacity=alt.condition(label, alt.value(1), alt.value(0))\n",
        "    ).add_selection(label),\n",
        "\n",
        "    # add white stroked text to provide a legible background for labels\n",
        "    base.mark_text(align='left', dx=5, dy=-5, stroke='white', strokeWidth=2).encode(\n",
        "        text='price:Q'\n",
        "    ).transform_filter(label),\n",
        "\n",
        "    # add text labels for stock prices\n",
        "    base.mark_text(align='left', dx=5, dy=-5).encode(\n",
        "        text='price:Q'\n",
        "    ).transform_filter(label),\n",
        "    \n",
        "    data=stocks\n",
        ").properties(\n",
        "    width=700,\n",
        "    height=400\n",
        ")"
      ],
      "execution_count": 0,
      "outputs": [
        {
          "output_type": "execute_result",
          "data": {
            "text/html": [
              "\n",
              "<div id=\"altair-viz-9283d3681fd24aafa3d1e2f9ad193ecf\"></div>\n",
              "<script type=\"text/javascript\">\n",
              "  (function(spec, embedOpt){\n",
              "    const outputDiv = document.getElementById(\"altair-viz-9283d3681fd24aafa3d1e2f9ad193ecf\");\n",
              "    const paths = {\n",
              "      \"vega\": \"https://cdn.jsdelivr.net/npm//vega@5?noext\",\n",
              "      \"vega-lib\": \"https://cdn.jsdelivr.net/npm//vega-lib?noext\",\n",
              "      \"vega-lite\": \"https://cdn.jsdelivr.net/npm//vega-lite@4.0.2?noext\",\n",
              "      \"vega-embed\": \"https://cdn.jsdelivr.net/npm//vega-embed@6?noext\",\n",
              "    };\n",
              "\n",
              "    function loadScript(lib) {\n",
              "      return new Promise(function(resolve, reject) {\n",
              "        var s = document.createElement('script');\n",
              "        s.src = paths[lib];\n",
              "        s.async = true;\n",
              "        s.onload = () => resolve(paths[lib]);\n",
              "        s.onerror = () => reject(`Error loading script: ${paths[lib]}`);\n",
              "        document.getElementsByTagName(\"head\")[0].appendChild(s);\n",
              "      });\n",
              "    }\n",
              "\n",
              "    function showError(err) {\n",
              "      outputDiv.innerHTML = `<div class=\"error\" style=\"color:red;\">${err}</div>`;\n",
              "      throw err;\n",
              "    }\n",
              "\n",
              "    function displayChart(vegaEmbed) {\n",
              "      vegaEmbed(outputDiv, spec, embedOpt)\n",
              "        .catch(err => showError(`Javascript Error: ${err.message}<br>This usually means there's a typo in your chart specification. See the javascript console for the full traceback.`));\n",
              "    }\n",
              "\n",
              "    if(typeof define === \"function\" && define.amd) {\n",
              "      requirejs.config({paths});\n",
              "      require([\"vega-embed\"], displayChart, err => showError(`Error loading script: ${err.message}`));\n",
              "    } else if (typeof vegaEmbed === \"function\") {\n",
              "      displayChart(vegaEmbed);\n",
              "    } else {\n",
              "      loadScript(\"vega\")\n",
              "        .then(() => loadScript(\"vega-lite\"))\n",
              "        .then(() => loadScript(\"vega-embed\"))\n",
              "        .catch(showError)\n",
              "        .then(() => displayChart(vegaEmbed));\n",
              "    }\n",
              "  })({\"config\": {\"view\": {\"continuousWidth\": 400, \"continuousHeight\": 300}}, \"layer\": [{\"mark\": \"line\", \"encoding\": {\"color\": {\"type\": \"nominal\", \"field\": \"symbol\"}, \"x\": {\"type\": \"temporal\", \"field\": \"date\"}, \"y\": {\"type\": \"quantitative\", \"field\": \"price\", \"scale\": {\"type\": \"log\"}}}}, {\"mark\": {\"type\": \"rule\", \"color\": \"#aaa\"}, \"encoding\": {\"x\": {\"type\": \"temporal\", \"field\": \"date\"}}, \"transform\": [{\"filter\": {\"selection\": \"selector002\"}}]}, {\"mark\": \"circle\", \"encoding\": {\"color\": {\"type\": \"nominal\", \"field\": \"symbol\"}, \"opacity\": {\"condition\": {\"value\": 1, \"selection\": \"selector002\"}, \"value\": 0}, \"x\": {\"type\": \"temporal\", \"field\": \"date\"}, \"y\": {\"type\": \"quantitative\", \"field\": \"price\", \"scale\": {\"type\": \"log\"}}}, \"selection\": {\"selector002\": {\"type\": \"single\", \"encodings\": [\"x\"], \"on\": \"mouseover\", \"nearest\": true, \"empty\": \"none\"}}}, {\"mark\": {\"type\": \"text\", \"align\": \"left\", \"dx\": 5, \"dy\": -5, \"stroke\": \"white\", \"strokeWidth\": 2}, \"encoding\": {\"color\": {\"type\": \"nominal\", \"field\": \"symbol\"}, \"text\": {\"type\": \"quantitative\", \"field\": \"price\"}, \"x\": {\"type\": \"temporal\", \"field\": \"date\"}, \"y\": {\"type\": \"quantitative\", \"field\": \"price\", \"scale\": {\"type\": \"log\"}}}, \"transform\": [{\"filter\": {\"selection\": \"selector002\"}}]}, {\"mark\": {\"type\": \"text\", \"align\": \"left\", \"dx\": 5, \"dy\": -5}, \"encoding\": {\"color\": {\"type\": \"nominal\", \"field\": \"symbol\"}, \"text\": {\"type\": \"quantitative\", \"field\": \"price\"}, \"x\": {\"type\": \"temporal\", \"field\": \"date\"}, \"y\": {\"type\": \"quantitative\", \"field\": \"price\", \"scale\": {\"type\": \"log\"}}}, \"transform\": [{\"filter\": {\"selection\": \"selector002\"}}]}], \"data\": {\"url\": \"https://vega.github.io/vega-datasets/data/stocks.csv\"}, \"height\": 400, \"width\": 700, \"$schema\": \"https://vega.github.io/schema/vega-lite/v4.0.2.json\"}, {\"mode\": \"vega-lite\"});\n",
              "</script>"
            ],
            "text/plain": [
              "alt.LayerChart(...)"
            ]
          },
          "metadata": {
            "tags": []
          },
          "execution_count": 7
        }
      ]
    },
    {
      "cell_type": "markdown",
      "metadata": {
        "id": "iWE8qhnynG0v",
        "colab_type": "text"
      },
      "source": [
        "## Data Tables\n",
        "\n",
        "You can display tables per the usual way in your blog:"
      ]
    },
    {
      "cell_type": "code",
      "metadata": {
        "id": "HHiNqd_CnG0w",
        "colab_type": "code",
        "colab": {},
        "outputId": "d2ddc22c-da60-4c91-d229-141071ccf8c9"
      },
      "source": [
        "movies = 'https://vega.github.io/vega-datasets/data/movies.json'\n",
        "df = pd.read_json(movies)\n",
        "# display table with pandas\n",
        "df[['Title', 'Worldwide_Gross', \n",
        "    'Production_Budget', 'Distributor', 'MPAA_Rating', 'IMDB_Rating', 'Rotten_Tomatoes_Rating']].head()"
      ],
      "execution_count": 0,
      "outputs": [
        {
          "output_type": "execute_result",
          "data": {
            "text/html": [
              "<div>\n",
              "<style scoped>\n",
              "    .dataframe tbody tr th:only-of-type {\n",
              "        vertical-align: middle;\n",
              "    }\n",
              "\n",
              "    .dataframe tbody tr th {\n",
              "        vertical-align: top;\n",
              "    }\n",
              "\n",
              "    .dataframe thead th {\n",
              "        text-align: right;\n",
              "    }\n",
              "</style>\n",
              "<table border=\"1\" class=\"dataframe\">\n",
              "  <thead>\n",
              "    <tr style=\"text-align: right;\">\n",
              "      <th></th>\n",
              "      <th>Title</th>\n",
              "      <th>Worldwide_Gross</th>\n",
              "      <th>Production_Budget</th>\n",
              "      <th>Distributor</th>\n",
              "      <th>MPAA_Rating</th>\n",
              "      <th>IMDB_Rating</th>\n",
              "      <th>Rotten_Tomatoes_Rating</th>\n",
              "    </tr>\n",
              "  </thead>\n",
              "  <tbody>\n",
              "    <tr>\n",
              "      <th>0</th>\n",
              "      <td>The Land Girls</td>\n",
              "      <td>146083.0</td>\n",
              "      <td>8000000.0</td>\n",
              "      <td>Gramercy</td>\n",
              "      <td>R</td>\n",
              "      <td>6.1</td>\n",
              "      <td>NaN</td>\n",
              "    </tr>\n",
              "    <tr>\n",
              "      <th>1</th>\n",
              "      <td>First Love, Last Rites</td>\n",
              "      <td>10876.0</td>\n",
              "      <td>300000.0</td>\n",
              "      <td>Strand</td>\n",
              "      <td>R</td>\n",
              "      <td>6.9</td>\n",
              "      <td>NaN</td>\n",
              "    </tr>\n",
              "    <tr>\n",
              "      <th>2</th>\n",
              "      <td>I Married a Strange Person</td>\n",
              "      <td>203134.0</td>\n",
              "      <td>250000.0</td>\n",
              "      <td>Lionsgate</td>\n",
              "      <td>None</td>\n",
              "      <td>6.8</td>\n",
              "      <td>NaN</td>\n",
              "    </tr>\n",
              "    <tr>\n",
              "      <th>3</th>\n",
              "      <td>Let's Talk About Sex</td>\n",
              "      <td>373615.0</td>\n",
              "      <td>300000.0</td>\n",
              "      <td>Fine Line</td>\n",
              "      <td>None</td>\n",
              "      <td>NaN</td>\n",
              "      <td>13.0</td>\n",
              "    </tr>\n",
              "    <tr>\n",
              "      <th>4</th>\n",
              "      <td>Slam</td>\n",
              "      <td>1087521.0</td>\n",
              "      <td>1000000.0</td>\n",
              "      <td>Trimark</td>\n",
              "      <td>R</td>\n",
              "      <td>3.4</td>\n",
              "      <td>62.0</td>\n",
              "    </tr>\n",
              "  </tbody>\n",
              "</table>\n",
              "</div>"
            ],
            "text/plain": [
              "                        Title  Worldwide_Gross  Production_Budget Distributor  \\\n",
              "0              The Land Girls         146083.0          8000000.0    Gramercy   \n",
              "1      First Love, Last Rites          10876.0           300000.0      Strand   \n",
              "2  I Married a Strange Person         203134.0           250000.0   Lionsgate   \n",
              "3        Let's Talk About Sex         373615.0           300000.0   Fine Line   \n",
              "4                        Slam        1087521.0          1000000.0     Trimark   \n",
              "\n",
              "  MPAA_Rating  IMDB_Rating  Rotten_Tomatoes_Rating  \n",
              "0           R          6.1                     NaN  \n",
              "1           R          6.9                     NaN  \n",
              "2        None          6.8                     NaN  \n",
              "3        None          NaN                    13.0  \n",
              "4           R          3.4                    62.0  "
            ]
          },
          "metadata": {
            "tags": []
          },
          "execution_count": 11
        }
      ]
    },
    {
      "cell_type": "markdown",
      "metadata": {
        "id": "z5PabMnjnG0z",
        "colab_type": "text"
      },
      "source": [
        "## Images\n",
        "\n",
        "### Local Images\n",
        "\n",
        "You can reference local images and they will be copied and rendered on your blog automatically.  You can include these with the following markdown syntax:\n",
        "\n",
        "`![](my_icons/fastai_logo.png)`"
      ]
    },
    {
      "cell_type": "markdown",
      "metadata": {
        "id": "EgCgRMpHnG00",
        "colab_type": "text"
      },
      "source": [
        "![](https://github.com/PaulMackenzie/fastpages/blob/master/_notebooks/my_icons/fastai_logo.png?raw=1)"
      ]
    },
    {
      "cell_type": "markdown",
      "metadata": {
        "id": "hRbQXrVsnG00",
        "colab_type": "text"
      },
      "source": [
        "### Remote Images\n",
        "\n",
        "Remote images can be included with the following markdown syntax:\n",
        "\n",
        "`![](https://image.flaticon.com/icons/svg/36/36686.svg)`"
      ]
    },
    {
      "cell_type": "markdown",
      "metadata": {
        "id": "S9zyrKc_nG01",
        "colab_type": "text"
      },
      "source": [
        "![](https://image.flaticon.com/icons/svg/36/36686.svg)"
      ]
    },
    {
      "cell_type": "markdown",
      "metadata": {
        "id": "B_HjgBZenG01",
        "colab_type": "text"
      },
      "source": [
        "### Animated Gifs\n",
        "\n",
        "Animated Gifs work, too!\n",
        "\n",
        "`![](https://upload.wikimedia.org/wikipedia/commons/7/71/ChessPawnSpecialMoves.gif)`"
      ]
    },
    {
      "cell_type": "markdown",
      "metadata": {
        "id": "QAD_r257nG02",
        "colab_type": "text"
      },
      "source": [
        "![](https://upload.wikimedia.org/wikipedia/commons/7/71/ChessPawnSpecialMoves.gif)"
      ]
    },
    {
      "cell_type": "markdown",
      "metadata": {
        "id": "IBcvqUzBnG02",
        "colab_type": "text"
      },
      "source": [
        "### Captions\n",
        "\n",
        "You can include captions with markdown images like this:\n",
        "\n",
        "```\n",
        "![](https://www.fast.ai/images/fastai_paper/show_batch.png \"Credit: https://www.fast.ai/2020/02/13/fastai-A-Layered-API-for-Deep-Learning/\")\n",
        "```\n",
        "\n",
        "\n",
        "![](https://www.fast.ai/images/fastai_paper/show_batch.png \"Credit: https://www.fast.ai/2020/02/13/fastai-A-Layered-API-for-Deep-Learning/\")\n",
        "\n",
        "\n",
        "\n"
      ]
    },
    {
      "cell_type": "markdown",
      "metadata": {
        "id": "3NuO34fjnG03",
        "colab_type": "text"
      },
      "source": [
        "# Other Elements"
      ]
    },
    {
      "cell_type": "markdown",
      "metadata": {
        "id": "_cbVh8iTnG03",
        "colab_type": "text"
      },
      "source": [
        "## GitHub Flavored Emojis\n",
        "\n",
        "Typing `I give this post two :+1:!` will render this:\n",
        "\n",
        "I give this post two :+1:!"
      ]
    },
    {
      "cell_type": "markdown",
      "metadata": {
        "id": "8psUZXe7nG04",
        "colab_type": "text"
      },
      "source": [
        "## Tweetcards\n",
        "\n",
        "Typing `> twitter: https://twitter.com/jakevdp/status/1204765621767901185?s=20` will render this:\n",
        "\n",
        "> twitter: https://twitter.com/jakevdp/status/1204765621767901185?s=20"
      ]
    },
    {
      "cell_type": "markdown",
      "metadata": {
        "id": "jLSawPx9nG04",
        "colab_type": "text"
      },
      "source": [
        "## Youtube Videos\n",
        "\n",
        "Typing `> youtube: https://youtu.be/XfoYk_Z5AkI` will render this:\n",
        "\n",
        "\n",
        "> youtube: https://youtu.be/XfoYk_Z5AkI"
      ]
    },
    {
      "cell_type": "markdown",
      "metadata": {
        "id": "BJEwiMJQnG05",
        "colab_type": "text"
      },
      "source": [
        "## Boxes / Callouts \n",
        "\n",
        "Typing `> Warning: There will be no second warning!` will render this:\n",
        "\n",
        "\n",
        "> Warning: There will be no second warning!\n",
        "\n",
        "\n",
        "\n",
        "Typing `> Important: Pay attention! It's important.` will render this:\n",
        "\n",
        "> Important: Pay attention! It's important.\n",
        "\n",
        "\n",
        "\n",
        "Typing `> Tip: This is my tip.` will render this:\n",
        "\n",
        "> Tip: This is my tip.\n",
        "\n",
        "\n",
        "\n",
        "Typing `> Note: Take note of this.` will render this:\n",
        "\n",
        "> Note: Take note of this.\n",
        "\n",
        "\n",
        "\n",
        "Typing `> Note: A doc link to [an example website: fast.ai](https://www.fast.ai/) should also work fine.` will render in the docs:\n",
        "\n",
        "> Note: A doc link to [an example website: fast.ai](https://www.fast.ai/) should also work fine."
      ]
    },
    {
      "cell_type": "markdown",
      "metadata": {
        "id": "FVbx8le-nG05",
        "colab_type": "text"
      },
      "source": [
        "## Footnotes\n",
        "\n",
        "You can have footnotes in notebooks, however the syntax is different compared to markdown documents. [This guide provides more detail about this syntax](https://github.com/fastai/fastpages/blob/master/_fastpages_docs/NOTEBOOK_FOOTNOTES.md), which looks like this:\n",
        "\n",
        "```\n",
        "{% raw %}For example, here is a footnote {% fn 1 %}.\n",
        "And another {% fn 2 %}\n",
        "{{ 'This is the footnote.' | fndetail: 1 }}\n",
        "{{ 'This is the other footnote. You can even have a [link](www.github.com)!' | fndetail: 2 }}{% endraw %}\n",
        "```\n",
        "\n",
        "For example, here is a footnote {% fn 1 %}.\n",
        "\n",
        "And another {% fn 2 %}\n",
        "\n",
        "{{ 'This is the footnote.' | fndetail: 1 }}\n",
        "{{ 'This is the other footnote. You can even have a [link](www.github.com)!' | fndetail: 2 }}"
      ]
    }
  ]
}